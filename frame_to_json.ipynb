{
 "cells": [
  {
   "cell_type": "code",
   "execution_count": 1,
   "metadata": {},
   "outputs": [],
   "source": [
    "from pathlib import Path\n",
    "import os\n",
    "import numpy as np\n",
    "import pandas as pd\n",
    "import matplotlib.pyplot as plt\n",
    "import cv2\n"
   ]
  },
  {
   "cell_type": "code",
   "execution_count": 7,
   "metadata": {},
   "outputs": [],
   "source": [
    "frame_path = Path(\"frames\")\n",
    "\n",
    "# for frame in frame_path.iterdir():\n",
    "#     img = cv2.imread(str(frame))\n",
    "    \n",
    "#     cv2.imshow(\"frame\", img)\n",
    "#     cv2.waitKey(0)\n",
    "\n",
    "# cv2.destroyAllWindows()"
   ]
  },
  {
   "cell_type": "code",
   "execution_count": 8,
   "metadata": {},
   "outputs": [],
   "source": [
    "def load_frames(frame_path ,_from = 0, _to = None):\n",
    "    \"\"\"\n",
    "    Load frames from the frame_path directory\n",
    "    _from: int, starting index\n",
    "    _to: int, ending index\n",
    "    \n",
    "    return: list of frames\n",
    "    \n",
    "    if _to is None, load all frames from _from to the end\n",
    "    \"\"\"\n",
    "    if not frame_path.exists():\n",
    "        raise FileNotFoundError(\"Frame path does not exist\")\n",
    "    \n",
    "    if not frame_path.is_dir():\n",
    "        raise NotADirectoryError(\"Frame path is not a directory\")\n",
    "    \n",
    "    if _from < 0:\n",
    "        raise ValueError(\"Starting index must be greater than or equal to 0\")\n",
    "    \n",
    "    if _to is not None and _to < _from:\n",
    "        raise ValueError(\"Ending index must be greater than or equal to the starting index\")\n",
    "    \n",
    "    frames = []\n",
    "    for i, frame in enumerate(frame_path.iterdir()):\n",
    "        if i < _from:\n",
    "            continue\n",
    "        if _to is not None and i > _to:\n",
    "            break\n",
    "        img = cv2.imread(str(frame))\n",
    "        frames.append(img)\n",
    "    return frames"
   ]
  },
  {
   "cell_type": "code",
   "execution_count": 10,
   "metadata": {},
   "outputs": [
    {
     "name": "stdout",
     "output_type": "stream",
     "text": [
      "5 6\n"
     ]
    }
   ],
   "source": [
    "frames = load_frames()\n",
    "\n",
    "print(len(frames1), len(frames2))"
   ]
  },
  {
   "cell_type": "code",
   "execution_count": 11,
   "metadata": {},
   "outputs": [
    {
     "name": "stdout",
     "output_type": "stream",
     "text": [
      "Downloading https://github.com/ultralytics/assets/releases/download/v8.1.0/yolov8s.pt to 'yolov8s.pt'...\n"
     ]
    },
    {
     "name": "stderr",
     "output_type": "stream",
     "text": [
      "100%|██████████| 21.5M/21.5M [00:10<00:00, 2.12MB/s]\n"
     ]
    }
   ],
   "source": [
    "from ultralytics import YOLO\n",
    "\n",
    "model = YOLO(\"yolov8s.pt\")  # Load the pre-trained model"
   ]
  }
 ],
 "metadata": {
  "kernelspec": {
   "display_name": "Python 3",
   "language": "python",
   "name": "python3"
  },
  "language_info": {
   "codemirror_mode": {
    "name": "ipython",
    "version": 3
   },
   "file_extension": ".py",
   "mimetype": "text/x-python",
   "name": "python",
   "nbconvert_exporter": "python",
   "pygments_lexer": "ipython3",
   "version": "3.12.1"
  }
 },
 "nbformat": 4,
 "nbformat_minor": 2
}
