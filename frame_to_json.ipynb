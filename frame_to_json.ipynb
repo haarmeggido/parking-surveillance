{
 "cells": [
  {
   "cell_type": "code",
   "execution_count": 36,
   "metadata": {},
   "outputs": [],
   "source": [
    "from pathlib import Path\n",
    "import os\n",
    "import numpy as np\n",
    "import pandas as pd\n",
    "import matplotlib.pyplot as plt\n",
    "import cv2\n",
    "import random\n",
    "import time\n",
    "import json\n",
    "from ultralytics import YOLO\n"
   ]
  },
  {
   "cell_type": "code",
   "execution_count": 2,
   "metadata": {},
   "outputs": [],
   "source": [
    "frame_path = Path(\"frames\")\n",
    "\n",
    "# for frame in frame_path.iterdir():\n",
    "#     img = cv2.imread(str(frame))\n",
    "    \n",
    "#     cv2.imshow(\"frame\", img)\n",
    "#     cv2.waitKey(0)\n",
    "\n",
    "# cv2.destroyAllWindows()"
   ]
  },
  {
   "cell_type": "code",
   "execution_count": 4,
   "metadata": {},
   "outputs": [
    {
     "name": "stdout",
     "output_type": "stream",
     "text": [
      "350 800\n"
     ]
    }
   ],
   "source": [
    "img = cv2.imread(str(frame_path / \"2024_05_07_13_41_0.png\"))\n",
    "\n",
    "height, width, _ = img.shape\n",
    "print(height, width)"
   ]
  },
  {
   "cell_type": "code",
   "execution_count": 5,
   "metadata": {},
   "outputs": [],
   "source": [
    "\n",
    "weight_path = Path(\"train_results/best.pt\")\n",
    "frames_path = Path(\"frames\")\n",
    "model = YOLO(weight_path)"
   ]
  },
  {
   "cell_type": "markdown",
   "metadata": {},
   "source": [
    "## test iterated frames for output"
   ]
  },
  {
   "cell_type": "code",
   "execution_count": 9,
   "metadata": {},
   "outputs": [
    {
     "name": "stdout",
     "output_type": "stream",
     "text": [
      "\n",
      "0: 352x800 2 parked-cars, 142.8ms\n",
      "Speed: 0.0ms preprocess, 142.8ms inference, 0.0ms postprocess per image at shape (1, 3, 352, 800)\n",
      "Middle\n",
      "Right\n"
     ]
    }
   ],
   "source": [
    "#iterating through the frames\n",
    "\n",
    "\n",
    "i = 0\n",
    "for frame in frames_path.iterdir():\n",
    "    i += 1\n",
    "    img = cv2.imread(str(frame))\n",
    "    results = model(img)\n",
    "    result = results[0]\n",
    "    # print the boxes\n",
    "    # print(result.boxes)\n",
    "    xywhn = result.boxes.xywhn\n",
    "    l, r, c = 0, 0, 0\n",
    "    for xywh in xywhn:\n",
    "        x, y, w, h = xywh.cpu().numpy()\n",
    "        x, y, w, h = x * width, y * height, w * width, h * height\n",
    "        x1, y1, x2, y2 = int(x - w/2), int(y - h/2), int(x + w/2), int(y + h/2)\n",
    "\n",
    "        # if lower bound is below 40% of the image height, it's a parked car\n",
    "        if y2 > 0.4 * height:\n",
    "            # check in which third of the image width the center of the is\n",
    "            if x < 0.33 * width:\n",
    "                l = 1\n",
    "                print(\"Left\")\n",
    "            elif x < 0.66 * width:\n",
    "                print(\"Middle\")\n",
    "                c = 1\n",
    "            else:\n",
    "                print(\"Right\")\n",
    "                r = 1\n",
    "\n",
    "        cv2.rectangle(img, (x1, y1), (x2, y2), (0, 255, 0), 2)\n",
    "    cv2.imshow(\"frame\", img)\n",
    "    cv2.waitKey(0)\n",
    "  \n",
    "    if i == 1:\n",
    "        break\n",
    "\n",
    "cv2.destroyAllWindows()"
   ]
  },
  {
   "cell_type": "markdown",
   "metadata": {},
   "source": [
    "## Check random frames for output"
   ]
  },
  {
   "cell_type": "code",
   "execution_count": 16,
   "metadata": {},
   "outputs": [
    {
     "name": "stdout",
     "output_type": "stream",
     "text": [
      "\n",
      "0: 352x800 2 parked-cars, 169.2ms\n",
      "Speed: 1.0ms preprocess, 169.2ms inference, 1.0ms postprocess per image at shape (1, 3, 352, 800)\n",
      "Middle\n",
      "Right\n",
      "\n",
      "0: 352x800 2 parked-cars, 119.6ms\n",
      "Speed: 0.0ms preprocess, 119.6ms inference, 0.0ms postprocess per image at shape (1, 3, 352, 800)\n",
      "Middle\n",
      "Right\n",
      "\n",
      "0: 352x800 3 parked-cars, 123.0ms\n",
      "Speed: 1.0ms preprocess, 123.0ms inference, 1.0ms postprocess per image at shape (1, 3, 352, 800)\n",
      "Middle\n",
      "Left\n",
      "Right\n",
      "\n",
      "0: 352x800 2 parked-cars, 115.6ms\n",
      "Speed: 0.0ms preprocess, 115.6ms inference, 0.0ms postprocess per image at shape (1, 3, 352, 800)\n",
      "Middle\n",
      "Right\n",
      "\n",
      "0: 352x800 2 parked-cars, 101.3ms\n",
      "Speed: 1.0ms preprocess, 101.3ms inference, 0.0ms postprocess per image at shape (1, 3, 352, 800)\n",
      "Middle\n",
      "Right\n",
      "\n",
      "0: 352x800 2 parked-cars, 100.2ms\n",
      "Speed: 0.0ms preprocess, 100.2ms inference, 0.0ms postprocess per image at shape (1, 3, 352, 800)\n",
      "Right\n",
      "Middle\n",
      "\n",
      "0: 352x800 2 parked-cars, 109.8ms\n",
      "Speed: 0.0ms preprocess, 109.8ms inference, 0.0ms postprocess per image at shape (1, 3, 352, 800)\n",
      "Middle\n",
      "Right\n",
      "\n",
      "0: 352x800 2 parked-cars, 106.5ms\n",
      "Speed: 15.6ms preprocess, 106.5ms inference, 1.0ms postprocess per image at shape (1, 3, 352, 800)\n",
      "Middle\n",
      "Right\n",
      "\n",
      "0: 352x800 1 parked-car, 102.0ms\n",
      "Speed: 1.0ms preprocess, 102.0ms inference, 0.0ms postprocess per image at shape (1, 3, 352, 800)\n",
      "Right\n",
      "\n",
      "0: 352x800 2 parked-cars, 112.2ms\n",
      "Speed: 0.0ms preprocess, 112.2ms inference, 0.0ms postprocess per image at shape (1, 3, 352, 800)\n",
      "Right\n",
      "Middle\n"
     ]
    }
   ],
   "source": [
    "# random frames\n",
    "import random\n",
    "\n",
    "frames = list(frames_path.iterdir())\n",
    "random.shuffle(frames)\n",
    "count = 10\n",
    "\n",
    "for frame in frames:\n",
    "    img = cv2.imread(str(frame))\n",
    "    results = model(img)\n",
    "    result = results[0]\n",
    "    # print the boxes\n",
    "    # print(result.boxes)\n",
    "    xywhn = result.boxes.xywhn\n",
    "    # display the image\n",
    "    #plot xy points on the image\n",
    "    l, r, c = 0, 0, 0\n",
    "    for xywh in xywhn:\n",
    "        x, y, w, h = xywh.cpu().numpy()\n",
    "        x, y, w, h = x * width, y * height, w * width, h * height\n",
    "        x1, y1, x2, y2 = int(x - w/2), int(y - h/2), int(x + w/2), int(y + h/2)\n",
    "\n",
    "        # if lower bound is below 40% of the image height, it's a parked car\n",
    "        if y2 > 0.4 * height:\n",
    "            # check in which third of the image width the center of the cart is\n",
    "            if x < 0.33 * width:\n",
    "                l = 1\n",
    "                print(\"Left\")\n",
    "            elif x < 0.66 * width:\n",
    "                print(\"Middle\")\n",
    "                c = 1\n",
    "            else:\n",
    "                print(\"Right\")\n",
    "                r = 1\n",
    "\n",
    "        cv2.rectangle(img, (x1, y1), (x2, y2), (0, 255, 0), 2)\n",
    "    cv2.imshow(f'left:{l}, center: {c}, right: {r}', img)\n",
    "    \n",
    "    cv2.waitKey(0)\n",
    "    count -= 1\n",
    "    if count == 0:\n",
    "        break\n",
    "\n",
    "cv2.destroyAllWindows()\n"
   ]
  },
  {
   "cell_type": "markdown",
   "metadata": {},
   "source": [
    "## Proper function to jsonify output"
   ]
  },
  {
   "cell_type": "code",
   "execution_count": 39,
   "metadata": {},
   "outputs": [],
   "source": [
    "def frame_to_json(frame, verbose=False):\n",
    "    img = cv2.imread(str(frame))\n",
    "    results = model(img, verbose=verbose)\n",
    "    result = results[0]\n",
    "    # print the boxes\n",
    "    # print(result.boxes)\n",
    "    xywhn = result.boxes.xywhn\n",
    "    # display the image\n",
    "    #plot xy points on the image\n",
    "    l, r, c = 0, 0, 0\n",
    "    for xywh in xywhn:\n",
    "        x, y, w, h = xywh.cpu().numpy()\n",
    "        x, y, w, h = x * width, y * height, w * width, h * height\n",
    "        x1, y1, x2, y2 = int(x - w/2), int(y - h/2), int(x + w/2), int(y + h/2)\n",
    "\n",
    "        # if lower bound is below 35% of the image height, it's a parked car\n",
    "        if y2 > 0.35 * height:\n",
    "            # check in which third of the image width the car is\n",
    "            if x < 0.33 * width:\n",
    "                l = 1\n",
    "            elif x < 0.66 * width:\n",
    "                c = 1\n",
    "            else:\n",
    "                r = 1\n",
    "\n",
    "    if verbose:\n",
    "        print(f\"Left: {l}, Right: {r}, Center: {c}\")\n",
    "    name_split = frame.name.split(\"_\")\n",
    "    year, month, day, hour, minute, second = name_split[:6]\n",
    "    second = str(int(second.split(\".\")[0]) * 10)\n",
    "    return {\n",
    "        \"year\": year,\n",
    "        \"month\": month,\n",
    "        \"day\": day,\n",
    "        \"hour\": hour,\n",
    "        \"minute\": minute,\n",
    "        \"second\": second,\n",
    "        \"left\": l,\n",
    "        \"right\": r,\n",
    "        \"center\": c\n",
    "    }"
   ]
  },
  {
   "cell_type": "code",
   "execution_count": 40,
   "metadata": {},
   "outputs": [
    {
     "name": "stdout",
     "output_type": "stream",
     "text": [
      "{'year': '2024', 'month': '05', 'day': '07', 'hour': '13', 'minute': '41', 'second': '0', 'left': 0, 'right': 1, 'center': 1}\n",
      "{'year': '2024', 'month': '05', 'day': '07', 'hour': '13', 'minute': '41', 'second': '10', 'left': 0, 'right': 1, 'center': 1}\n",
      "{'year': '2024', 'month': '05', 'day': '07', 'hour': '13', 'minute': '41', 'second': '20', 'left': 0, 'right': 1, 'center': 1}\n",
      "{'year': '2024', 'month': '05', 'day': '07', 'hour': '13', 'minute': '41', 'second': '30', 'left': 0, 'right': 1, 'center': 1}\n",
      "{'year': '2024', 'month': '05', 'day': '07', 'hour': '13', 'minute': '41', 'second': '40', 'left': 0, 'right': 1, 'center': 1}\n",
      "{'year': '2024', 'month': '05', 'day': '07', 'hour': '13', 'minute': '41', 'second': '50', 'left': 0, 'right': 1, 'center': 1}\n",
      "{'year': '2024', 'month': '05', 'day': '07', 'hour': '13', 'minute': '42', 'second': '0', 'left': 0, 'right': 1, 'center': 1}\n",
      "{'year': '2024', 'month': '05', 'day': '07', 'hour': '13', 'minute': '42', 'second': '10', 'left': 0, 'right': 1, 'center': 1}\n",
      "{'year': '2024', 'month': '05', 'day': '07', 'hour': '13', 'minute': '42', 'second': '20', 'left': 0, 'right': 1, 'center': 1}\n",
      "{'year': '2024', 'month': '05', 'day': '07', 'hour': '13', 'minute': '42', 'second': '30', 'left': 0, 'right': 1, 'center': 1}\n"
     ]
    }
   ],
   "source": [
    "count = 0\n",
    "for frame in frames_path.iterdir():\n",
    "    json_reult = frame_to_json(frame)\n",
    "    print(json_reult)\n",
    "    count += 1\n",
    "    if count == 10:\n",
    "        break"
   ]
  },
  {
   "cell_type": "code",
   "execution_count": 41,
   "metadata": {},
   "outputs": [],
   "source": [
    "# iterate through all the frames and save the results in a json file in results folder\n",
    "# speed about 9 frames per second\n",
    "#1.5h to process the whole folder, only to do on final model\n",
    "results = []\n",
    "i = 0\n",
    "for frame in frames_path.iterdir():\n",
    "    json_reult = frame_to_json(frame)\n",
    "    results.append(json_reult)\n",
    "    i += 1\n",
    "\n",
    "    ############################################\n",
    "    # break after 100 frames\n",
    "    if i == 100:\n",
    "        break\n",
    "    ############################################\n",
    "    \n",
    "    if i % 1000 == 0:\n",
    "        print(f\"Processed {i} frames\")\n",
    "\n",
    "with open(\"results/results.json\", \"w\") as f:\n",
    "    json.dump(results, f)\n",
    "\n",
    "    "
   ]
  },
  {
   "cell_type": "code",
   "execution_count": 38,
   "metadata": {},
   "outputs": [],
   "source": [
    "# prettifing the json file\n",
    "with open(\"results/results.json\", \"r\") as f:\n",
    "    results = json.load(f)\n",
    "\n",
    "with open(\"results/results_pretty.json\", \"w\") as f:\n",
    "    json.dump(results, f, indent=4)\n",
    "\n",
    "    "
   ]
  }
 ],
 "metadata": {
  "kernelspec": {
   "display_name": "Python 3",
   "language": "python",
   "name": "python3"
  },
  "language_info": {
   "codemirror_mode": {
    "name": "ipython",
    "version": 3
   },
   "file_extension": ".py",
   "mimetype": "text/x-python",
   "name": "python",
   "nbconvert_exporter": "python",
   "pygments_lexer": "ipython3",
   "version": "3.12.1"
  }
 },
 "nbformat": 4,
 "nbformat_minor": 2
}
