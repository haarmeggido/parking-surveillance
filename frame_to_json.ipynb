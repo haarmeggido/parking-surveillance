{
 "cells": [
  {
   "cell_type": "code",
   "execution_count": 6,
   "metadata": {},
   "outputs": [],
   "source": [
    "from pathlib import Path\n",
    "import os\n",
    "import numpy as np\n",
    "import pandas as pd\n",
    "import matplotlib.pyplot as plt\n",
    "import cv2\n"
   ]
  },
  {
   "cell_type": "code",
   "execution_count": 7,
   "metadata": {},
   "outputs": [],
   "source": [
    "frame_path = Path(\"frames\")\n",
    "\n",
    "# for frame in frame_path.iterdir():\n",
    "#     img = cv2.imread(str(frame))\n",
    "    \n",
    "#     cv2.imshow(\"frame\", img)\n",
    "#     cv2.waitKey(0)\n",
    "\n",
    "# cv2.destroyAllWindows()"
   ]
  },
  {
   "cell_type": "code",
   "execution_count": 8,
   "metadata": {},
   "outputs": [],
   "source": [
    "def load_frames(frame_path ,_from = 0, _to = None):\n",
    "    \"\"\"\n",
    "    Load frames from the frame_path directory\n",
    "    _from: int, starting index\n",
    "    _to: int, ending index\n",
    "    \n",
    "    return: list of frames\n",
    "    \n",
    "    if _to is None, load all frames from _from to the end\n",
    "    \"\"\"\n",
    "    if not frame_path.exists():\n",
    "        raise FileNotFoundError(\"Frame path does not exist\")\n",
    "    \n",
    "    if not frame_path.is_dir():\n",
    "        raise NotADirectoryError(\"Frame path is not a directory\")\n",
    "    \n",
    "    if _from < 0:\n",
    "        raise ValueError(\"Starting index must be greater than or equal to 0\")\n",
    "    \n",
    "    if _to is not None and _to < _from:\n",
    "        raise ValueError(\"Ending index must be greater than or equal to the starting index\")\n",
    "    \n",
    "    frames = []\n",
    "    for i, frame in enumerate(frame_path.iterdir()):\n",
    "        if i < _from:\n",
    "            continue\n",
    "        if _to is not None and i > _to:\n",
    "            break\n",
    "        img = cv2.imread(str(frame))\n",
    "        frames.append(img)\n",
    "    return frames"
   ]
  },
  {
   "cell_type": "code",
   "execution_count": 9,
   "metadata": {},
   "outputs": [],
   "source": [
    "frames = load_frames(frame_path =frame_path, _from = 0)\n"
   ]
  },
  {
   "cell_type": "code",
   "execution_count": 10,
   "metadata": {},
   "outputs": [],
   "source": [
    "from ultralytics import YOLO\n",
    "\n",
    "model = YOLO(\"yolov8s.pt\")  # Load the pre-trained model"
   ]
  },
  {
   "cell_type": "code",
   "execution_count": 12,
   "metadata": {},
   "outputs": [
    {
     "name": "stdout",
     "output_type": "stream",
     "text": [
      "\n",
      "0: 384x640 4 cars, 1 traffic light, 144.7ms\n",
      "1: 384x640 3 cars, 2 traffic lights, 144.7ms\n",
      "2: 384x640 3 cars, 1 traffic light, 144.7ms\n",
      "3: 384x640 4 cars, 1 bus, 144.7ms\n",
      "4: 384x640 2 cars, 1 traffic light, 144.7ms\n",
      "5: 384x640 4 persons, 3 cars, 2 traffic lights, 144.7ms\n",
      "Speed: 3.0ms preprocess, 144.7ms inference, 265.8ms postprocess per image at shape (1, 3, 384, 640)\n"
     ]
    }
   ],
   "source": [
    "results = model(frames)  # Run inference\n",
    "\n"
   ]
  },
  {
   "cell_type": "code",
   "execution_count": 18,
   "metadata": {},
   "outputs": [],
   "source": [
    "for i, result in enumerate(results):\n",
    "    boxes = result.boxes\n",
    "\n",
    "    result.show()\n",
    "    "
   ]
  }
 ],
 "metadata": {
  "kernelspec": {
   "display_name": "Python 3",
   "language": "python",
   "name": "python3"
  },
  "language_info": {
   "codemirror_mode": {
    "name": "ipython",
    "version": 3
   },
   "file_extension": ".py",
   "mimetype": "text/x-python",
   "name": "python",
   "nbconvert_exporter": "python",
   "pygments_lexer": "ipython3",
   "version": "3.12.1"
  }
 },
 "nbformat": 4,
 "nbformat_minor": 2
}
