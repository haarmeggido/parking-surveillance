{
 "cells": [
  {
   "cell_type": "code",
   "execution_count": 2,
   "metadata": {},
   "outputs": [],
   "source": [
    "from pathlib import Path\n",
    "import os\n",
    "import numpy as np\n",
    "import pandas as pd\n",
    "import matplotlib.pyplot as plt\n",
    "import cv2\n"
   ]
  },
  {
   "cell_type": "code",
   "execution_count": 3,
   "metadata": {},
   "outputs": [],
   "source": [
    "frame_path = Path(\"frames\")\n",
    "\n",
    "# for frame in frame_path.iterdir():\n",
    "#     img = cv2.imread(str(frame))\n",
    "    \n",
    "#     cv2.imshow(\"frame\", img)\n",
    "#     cv2.waitKey(0)\n",
    "\n",
    "# cv2.destroyAllWindows()"
   ]
  },
  {
   "cell_type": "code",
   "execution_count": 4,
   "metadata": {},
   "outputs": [],
   "source": [
    "def load_frames(frame_path ,_from = 0, _to = None):\n",
    "    \"\"\"\n",
    "    Load frames from the frame_path directory\n",
    "    _from: int, starting index\n",
    "    _to: int, ending index\n",
    "    \n",
    "    return: list of frames\n",
    "    \n",
    "    if _to is None, load all frames from _from to the end\n",
    "    \"\"\"\n",
    "    if not frame_path.exists():\n",
    "        raise FileNotFoundError(\"Frame path does not exist\")\n",
    "    \n",
    "    if not frame_path.is_dir():\n",
    "        raise NotADirectoryError(\"Frame path is not a directory\")\n",
    "    \n",
    "    if _from < 0:\n",
    "        raise ValueError(\"Starting index must be greater than or equal to 0\")\n",
    "    \n",
    "    if _to is not None and _to < _from:\n",
    "        raise ValueError(\"Ending index must be greater than or equal to the starting index\")\n",
    "    \n",
    "    frames = []\n",
    "    for i, frame in enumerate(frame_path.iterdir()):\n",
    "        if i < _from:\n",
    "            continue\n",
    "        if _to is not None and i > _to:\n",
    "            break\n",
    "        img = cv2.imread(str(frame))\n",
    "        frames.append(img)\n",
    "    return frames"
   ]
  },
  {
   "cell_type": "code",
   "execution_count": 5,
   "metadata": {},
   "outputs": [],
   "source": [
    "frames = load_frames(frame_path =frame_path, _from = 0)\n"
   ]
  },
  {
   "cell_type": "code",
   "execution_count": 6,
   "metadata": {},
   "outputs": [],
   "source": [
    "from ultralytics import YOLO\n",
    "\n",
    "model = YOLO(\"yolov8s.pt\")  # Load the pre-trained model"
   ]
  },
  {
   "cell_type": "code",
   "execution_count": 7,
   "metadata": {},
   "outputs": [
    {
     "name": "stdout",
     "output_type": "stream",
     "text": [
      "\n",
      "0: 288x640 1 bus, 2 trucks, 1 boat, 78.3ms\n",
      "1: 288x640 2 cars, 1 truck, 78.3ms\n",
      "2: 288x640 1 car, 1 boat, 78.3ms\n",
      "3: 288x640 1 car, 1 truck, 78.3ms\n",
      "4: 288x640 2 trucks, 78.3ms\n",
      "5: 288x640 1 car, 1 truck, 78.3ms\n",
      "Speed: 1.5ms preprocess, 78.3ms inference, 167.8ms postprocess per image at shape (1, 3, 288, 640)\n"
     ]
    }
   ],
   "source": [
    "results = model(frames)  # Run inference\n",
    "\n"
   ]
  },
  {
   "cell_type": "code",
   "execution_count": 8,
   "metadata": {},
   "outputs": [],
   "source": [
    "for i, result in enumerate(results):\n",
    "    boxes = result.boxes\n",
    "\n",
    "    result.show()\n",
    "    "
   ]
  }
 ],
 "metadata": {
  "kernelspec": {
   "display_name": "Python 3",
   "language": "python",
   "name": "python3"
  },
  "language_info": {
   "codemirror_mode": {
    "name": "ipython",
    "version": 3
   },
   "file_extension": ".py",
   "mimetype": "text/x-python",
   "name": "python",
   "nbconvert_exporter": "python",
   "pygments_lexer": "ipython3",
   "version": "3.12.1"
  }
 },
 "nbformat": 4,
 "nbformat_minor": 2
}
